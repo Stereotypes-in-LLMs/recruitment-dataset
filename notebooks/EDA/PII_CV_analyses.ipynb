{
 "cells": [
  {
   "cell_type": "code",
   "execution_count": null,
   "metadata": {},
   "outputs": [],
   "source": [
    "import re\n",
    "import numpy as np\n",
    "import pandas as pd"
   ]
  },
  {
   "cell_type": "code",
   "execution_count": null,
   "metadata": {},
   "outputs": [],
   "source": [
    "df = pd.read_csv('../../data/prepared_candidates/candidates_prepared.csv')\n",
    "df.head()"
   ]
  },
  {
   "cell_type": "code",
   "execution_count": null,
   "metadata": {},
   "outputs": [],
   "source": [
    "phone_pattern = re.compile(r'380\\d{9}|0\\d{9}')\n",
    "\n",
    "def get_phone(text):\n",
    "    text = text.replace(' ', '')\n",
    "    match_val = phone_pattern.search(text)\n",
    "    if match_val:\n",
    "        return match_val.group()\n",
    "    return None\n",
    "\n",
    "# get phone\n",
    "df['phone'] = df['CV'].apply(get_phone)\n",
    "print(\"Count of CVs with phone number in CVs:\", len(df[df['phone'].notna()]))\n",
    "print(\"Percentage of CVs with phone number in CVs:\", 100*len(df[df['phone'].notna()])/len(df))\n",
    "\n",
    "# show 10 random phone\n",
    "print(df['phone'].unique()[np.random.randint(0, len(df['phone'].unique()), 10)])"
   ]
  },
  {
   "cell_type": "code",
   "execution_count": null,
   "metadata": {},
   "outputs": [],
   "source": [
    "email_pattern = re.compile(r'\\S+[@_](gmail\\.com|ukr\\.net|mail\\.ru)')\n",
    "\n",
    "def get_email(text):\n",
    "    text = text.lower()\n",
    "    match_val = email_pattern.search(text)\n",
    "    if match_val:\n",
    "        return match_val.group()\n",
    "    return None\n",
    "\n",
    "# get email\n",
    "df['email'] = df['CV'].apply(get_email)\n",
    "print(\"Count of CVs with email in CVs:\", len(df[df['email'].notna()]))\n",
    "print(\"Percentage of CVs with email in CVs:\", 100*len(df[df['email'].notna()])/len(df))\n",
    "\n",
    "# show 10 random emails\n",
    "print(df['email'].unique()[np.random.randint(0, len(df['email'].unique()), 10)])"
   ]
  },
  {
   "cell_type": "code",
   "execution_count": null,
   "metadata": {},
   "outputs": [],
   "source": [
    "# compile the regex patterns\n",
    "street_pattern = re.compile(r'домашня адреса|home address')\n",
    "\n",
    "def get_street(text):\n",
    "    text = text.lower()\n",
    "    match_val = street_pattern.search(text)\n",
    "    if match_val:\n",
    "        return match_val.group()\n",
    "    return None\n",
    "\n",
    "# get street\n",
    "df['street'] = df['CV'].apply(get_street)\n",
    "print(\"Count of CVs with street in CVs:\", len(df[df['street'].notna()]))\n",
    "print(\"Percentage of CVs with street in CVs:\", 100*len(df[df['street'].notna()])/len(df))\n",
    "\n",
    "# show 10 random streets\n",
    "print(df['street'].unique()[:10])"
   ]
  },
  {
   "cell_type": "code",
   "execution_count": null,
   "metadata": {},
   "outputs": [],
   "source": [
    "# check ІПН, РНОКПП, УНЗР, SNN\n",
    "ipn_pattern = re.compile(r'ІПН|РНОКПП|УНЗР|SNN:')\n",
    "\n",
    "def get_ipn(text):\n",
    "    match_val = ipn_pattern.search(text)\n",
    "    if match_val:\n",
    "        print(text)\n",
    "        return match_val.group()\n",
    "    return None\n",
    "\n",
    "# get ІПН\n",
    "df['ipn'] = df['CV'].apply(get_ipn)\n",
    "print(\"Count of CVs with ІПН in CVs:\", len(df[df['ipn'].notna()]))\n",
    "print(\"Percentage of CVs with ІПН in CVs:\", 100*len(df[df['ipn'].notna()])/len(df))\n",
    "# show 10 random ІПН\n",
    "print(df['ipn'].unique()[:10])"
   ]
  },
  {
   "cell_type": "code",
   "execution_count": null,
   "metadata": {},
   "outputs": [],
   "source": [
    "# check social media links\n",
    "social_pattern = re.compile(r'www\\.(linkedin|facebook|instagram|twitter|vk|telegram|viber|whatsapp)')\n",
    "\n",
    "def get_social(text):\n",
    "    text = text.lower()\n",
    "    return social_pattern.findall(text)\n",
    "\n",
    "# get social media links\n",
    "df['social'] = df['CV'].apply(get_social)\n",
    "print(\"Count of CVs with social media links in CVs:\", len(df[df['social'].apply(len) > 0]))\n",
    "print(\"Percentage of CVs with social media links in CVs:\", 100*len(df[df['social'].apply(len) > 0])/len(df))\n",
    "# show 10 random social media links\n",
    "print(df['social'].astype(str).unique()[:10])"
   ]
  },
  {
   "cell_type": "code",
   "execution_count": null,
   "metadata": {},
   "outputs": [],
   "source": [
    "# find socila media nicknames\n",
    "social_pattern = re.compile(r'(linkedin|facebook|instagram|twitter|vk|vkontakte|telegram|viber|whatsapp):')\n",
    "\n",
    "def get_social_nickname(text):\n",
    "    text = text.lower()\n",
    "    return social_pattern.findall(text)\n",
    "\n",
    "# get social media nicknames\n",
    "df['social_nickname'] = df['CV'].apply(get_social_nickname)\n",
    "print(\"Count of CVs with social media nicknames in CVs:\", len(df[df['social_nickname'].apply(len) > 0]))\n",
    "print(\"Percentage of CVs with social media nicknames in CVs:\", 100*len(df[df['social_nickname'].apply(len) > 0])/len(df))\n",
    "# show 10 random social media nicknames\n",
    "print(df['social_nickname'].astype(str).unique()[:10])"
   ]
  },
  {
   "cell_type": "code",
   "execution_count": null,
   "metadata": {},
   "outputs": [],
   "source": [
    "df.social = df.social.astype(str)\n",
    "df.social_nickname = df.social_nickname.astype(str)\n",
    "df = df[(df.social_nickname != '[]') | (df.social != '[]') | (df.ipn.notna()) | (df.street.notna()) | (df.email.notna()) |  (df.phone.notna())]\n",
    "print(df.shape)\n",
    "df.head()"
   ]
  },
  {
   "cell_type": "code",
   "execution_count": null,
   "metadata": {},
   "outputs": [],
   "source": [
    "df.to_csv('../../data/PII_CV.csv', index=False)"
   ]
  },
  {
   "cell_type": "markdown",
   "metadata": {},
   "source": [
    "## Delete PII from datasets"
   ]
  },
  {
   "cell_type": "code",
   "execution_count": null,
   "metadata": {},
   "outputs": [],
   "source": [
    "data = pd.read_csv('../../data/djinni/candidates.csv')"
   ]
  },
  {
   "cell_type": "code",
   "execution_count": null,
   "metadata": {},
   "outputs": [],
   "source": [
    "data"
   ]
  },
  {
   "cell_type": "code",
   "execution_count": null,
   "metadata": {},
   "outputs": [],
   "source": [
    "df = df[data.columns]"
   ]
  },
  {
   "cell_type": "code",
   "execution_count": null,
   "metadata": {},
   "outputs": [],
   "source": [
    "#delete all rows from data which we have in df. for deleting use match by all columns\n",
    "data = data[~data.apply(tuple,1).isin(df.apply(tuple,1))]\n"
   ]
  },
  {
   "cell_type": "code",
   "execution_count": null,
   "metadata": {},
   "outputs": [],
   "source": [
    "data"
   ]
  },
  {
   "cell_type": "code",
   "execution_count": null,
   "metadata": {},
   "outputs": [],
   "source": [
    "100*(295094-294825)/295094"
   ]
  },
  {
   "cell_type": "code",
   "execution_count": null,
   "metadata": {},
   "outputs": [],
   "source": [
    "data.to_csv('../../data/djinni/candidates.csv', index=False)"
   ]
  },
  {
   "cell_type": "code",
   "execution_count": null,
   "metadata": {},
   "outputs": [],
   "source": [
    "# delete from preprocessed datasets\n",
    "data = pd.read_csv('../../data/prepared_candidates/candidates_prepared.csv')\n",
    "print(data.shape)\n",
    "df = pd.read_csv('../../data/PII_CV.csv')\n",
    "# drop by id\n",
    "data = data[~data.id.isin(df.id)]\n",
    "print(data.shape)\n",
    "data.to_csv('../../data/prepared_candidates/candidates_prepared.csv', index=False)"
   ]
  },
  {
   "cell_type": "code",
   "execution_count": null,
   "metadata": {},
   "outputs": [],
   "source": [
    "# delete from preprocessed datasets\n",
    "data = pd.read_csv('../../data/prepared_candidates/intermediate_candidates_prepared.csv')\n",
    "print(data.shape)\n",
    "df = pd.read_csv('../../data/PII_CV.csv')\n",
    "# drop by id\n",
    "data = data[~data.id.isin(df.id)]\n",
    "print(data.shape)\n",
    "data.to_csv('../../data/prepared_candidates/intermediate_candidates_prepared.csv', index=False)"
   ]
  },
  {
   "cell_type": "code",
   "execution_count": null,
   "metadata": {},
   "outputs": [],
   "source": []
  }
 ],
 "metadata": {
  "kernelspec": {
   "display_name": "my_conda_env_with_py311",
   "language": "python",
   "name": "python3"
  },
  "language_info": {
   "codemirror_mode": {
    "name": "ipython",
    "version": 3
   },
   "file_extension": ".py",
   "mimetype": "text/x-python",
   "name": "python",
   "nbconvert_exporter": "python",
   "pygments_lexer": "ipython3",
   "version": "3.8.8"
  }
 },
 "nbformat": 4,
 "nbformat_minor": 2
}
