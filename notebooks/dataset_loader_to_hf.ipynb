{
 "cells": [
  {
   "cell_type": "markdown",
   "metadata": {},
   "source": [
    "# Uploading created datasets to Hugging Face Datasets Hub"
   ]
  },
  {
   "cell_type": "markdown",
   "metadata": {},
   "source": [
    "## Install packages"
   ]
  },
  {
   "cell_type": "code",
   "execution_count": 1,
   "metadata": {},
   "outputs": [
    {
     "name": "stdout",
     "output_type": "stream",
     "text": [
      "Note: you may need to restart the kernel to use updated packages.\n",
      "Note: you may need to restart the kernel to use updated packages.\n",
      "Note: you may need to restart the kernel to use updated packages.\n"
     ]
    }
   ],
   "source": [
    "%pip install -q datasets\n",
    "%pip install -q huggingface_hub\n",
    "%pip install -q ipywidgets"
   ]
  },
  {
   "cell_type": "markdown",
   "metadata": {},
   "source": [
    "## Load libraries and login to Hugging Face"
   ]
  },
  {
   "cell_type": "code",
   "execution_count": 1,
   "metadata": {},
   "outputs": [
    {
     "data": {
      "application/vnd.jupyter.widget-view+json": {
       "model_id": "d4628b4cb900465bae2d31e34d4fd5a8",
       "version_major": 2,
       "version_minor": 0
      },
      "text/plain": [
       "VBox(children=(HTML(value='<center> <img\\nsrc=https://huggingface.co/front/assets/huggingface_logo-noborder.sv…"
      ]
     },
     "metadata": {},
     "output_type": "display_data"
    }
   ],
   "source": [
    "import json\n",
    "import pandas as pd\n",
    "from huggingface_hub import notebook_login\n",
    "from datasets import Dataset\n",
    "notebook_login()"
   ]
  },
  {
   "cell_type": "markdown",
   "metadata": {},
   "source": [
    "## Load data from local files"
   ]
  },
  {
   "cell_type": "code",
   "execution_count": 8,
   "metadata": {},
   "outputs": [],
   "source": [
    "df_candidates = pd.read_csv('../data/prepared_candidates/candidates_prepared.csv')\n",
    "df_jobs = pd.read_csv('../data/prepared_jobs/jobs_prepared.csv')"
   ]
  },
  {
   "cell_type": "code",
   "execution_count": 10,
   "metadata": {},
   "outputs": [],
   "source": [
    "# change English Level no english to no_english to unify the values\n",
    "df_candidates['English Level'] = df_candidates['English Level'].apply(lambda x: 'no_english' if x == 'no english' else x)"
   ]
  },
  {
   "cell_type": "markdown",
   "metadata": {},
   "source": [
    "## Upload English and Ukrainain candidates profiles to Hugging Face"
   ]
  },
  {
   "cell_type": "code",
   "execution_count": 13,
   "metadata": {},
   "outputs": [
    {
     "data": {
      "text/html": [
       "<div>\n",
       "<style scoped>\n",
       "    .dataframe tbody tr th:only-of-type {\n",
       "        vertical-align: middle;\n",
       "    }\n",
       "\n",
       "    .dataframe tbody tr th {\n",
       "        vertical-align: top;\n",
       "    }\n",
       "\n",
       "    .dataframe thead th {\n",
       "        text-align: right;\n",
       "    }\n",
       "</style>\n",
       "<table border=\"1\" class=\"dataframe\">\n",
       "  <thead>\n",
       "    <tr style=\"text-align: right;\">\n",
       "      <th></th>\n",
       "      <th>Position</th>\n",
       "      <th>Moreinfo</th>\n",
       "      <th>Looking For</th>\n",
       "      <th>Highlights</th>\n",
       "      <th>Primary Keyword</th>\n",
       "      <th>English Level</th>\n",
       "      <th>Experience Years</th>\n",
       "      <th>CV</th>\n",
       "      <th>CV_lang</th>\n",
       "      <th>id</th>\n",
       "    </tr>\n",
       "  </thead>\n",
       "  <tbody>\n",
       "    <tr>\n",
       "      <th>0</th>\n",
       "      <td>1c</td>\n",
       "      <td>Розробник 1с/BAS, всі українські конфігурації,...</td>\n",
       "      <td>NaN</td>\n",
       "      <td>NaN</td>\n",
       "      <td>Other</td>\n",
       "      <td>intermediate</td>\n",
       "      <td>11.0</td>\n",
       "      <td>\\nРозробник 1с/BAS, всі українські конфігураці...</td>\n",
       "      <td>uk</td>\n",
       "      <td>dcaeffc4-1d1f-5754-a567-f478f0c8aa6f</td>\n",
       "    </tr>\n",
       "    <tr>\n",
       "      <th>1</th>\n",
       "      <td>1c developer</td>\n",
       "      <td>Еко - маркет Торгівля роздрібна 1 рік 9 місяці...</td>\n",
       "      <td>NaN</td>\n",
       "      <td>Hillel IT school Java Basic and Java Pro 2022\\...</td>\n",
       "      <td>SQL</td>\n",
       "      <td>pre</td>\n",
       "      <td>11.0</td>\n",
       "      <td>Hillel IT school Java Basic and Java Pro 2022\\...</td>\n",
       "      <td>uk</td>\n",
       "      <td>2767ca2d-4bca-5b41-b9e0-e42ad5700b6f</td>\n",
       "    </tr>\n",
       "    <tr>\n",
       "      <th>2</th>\n",
       "      <td>1C developer (purpose: switch to Golang/Ruby)</td>\n",
       "      <td>Займаюся автоматизацією підприємств вже понад ...</td>\n",
       "      <td>Найголовніше - це атмосфера в колективі, також...</td>\n",
       "      <td>Самостійно приймати рішення, брати відповідаль...</td>\n",
       "      <td>Ruby</td>\n",
       "      <td>upper</td>\n",
       "      <td>7.0</td>\n",
       "      <td>Самостійно приймати рішення, брати відповідаль...</td>\n",
       "      <td>uk</td>\n",
       "      <td>ff07df1f-5268-5865-8f30-1cc660786494</td>\n",
       "    </tr>\n",
       "    <tr>\n",
       "      <th>3</th>\n",
       "      <td>1C програміст</td>\n",
       "      <td>Шукаю роботу з метою розвитку та вдосконалення...</td>\n",
       "      <td>В першу чергу мене цікавить можливість розвитк...</td>\n",
       "      <td>Пройшов курси: «1С за 21 день, 1С 8.3» та «1С ...</td>\n",
       "      <td>SQL</td>\n",
       "      <td>intermediate</td>\n",
       "      <td>0.5</td>\n",
       "      <td>Пройшов курси: «1С за 21 день, 1С 8.3» та «1С ...</td>\n",
       "      <td>uk</td>\n",
       "      <td>da4b79b1-fbc5-5dfe-bba0-58339f262d11</td>\n",
       "    </tr>\n",
       "    <tr>\n",
       "      <th>4</th>\n",
       "      <td>1C програміст</td>\n",
       "      <td>Шукаю роботу по напрямку junior С++. Маю досві...</td>\n",
       "      <td>Цікаві проекти, саморозвиток.</td>\n",
       "      <td>NaN</td>\n",
       "      <td>Data Engineer</td>\n",
       "      <td>intermediate</td>\n",
       "      <td>6.0</td>\n",
       "      <td>\\nШукаю роботу по напрямку junior С++. Маю дос...</td>\n",
       "      <td>uk</td>\n",
       "      <td>b118a952-cbe6-58ac-824a-10de5322570c</td>\n",
       "    </tr>\n",
       "  </tbody>\n",
       "</table>\n",
       "</div>"
      ],
      "text/plain": [
       "                                        Position   \n",
       "0                                             1c  \\\n",
       "1                                   1c developer   \n",
       "2  1C developer (purpose: switch to Golang/Ruby)   \n",
       "3                                  1C програміст   \n",
       "4                                  1C програміст   \n",
       "\n",
       "                                            Moreinfo   \n",
       "0  Розробник 1с/BAS, всі українські конфігурації,...  \\\n",
       "1  Еко - маркет Торгівля роздрібна 1 рік 9 місяці...   \n",
       "2  Займаюся автоматизацією підприємств вже понад ...   \n",
       "3  Шукаю роботу з метою розвитку та вдосконалення...   \n",
       "4  Шукаю роботу по напрямку junior С++. Маю досві...   \n",
       "\n",
       "                                         Looking For   \n",
       "0                                                NaN  \\\n",
       "1                                                NaN   \n",
       "2  Найголовніше - це атмосфера в колективі, також...   \n",
       "3  В першу чергу мене цікавить можливість розвитк...   \n",
       "4                      Цікаві проекти, саморозвиток.   \n",
       "\n",
       "                                          Highlights Primary Keyword   \n",
       "0                                                NaN           Other  \\\n",
       "1  Hillel IT school Java Basic and Java Pro 2022\\...             SQL   \n",
       "2  Самостійно приймати рішення, брати відповідаль...            Ruby   \n",
       "3  Пройшов курси: «1С за 21 день, 1С 8.3» та «1С ...             SQL   \n",
       "4                                                NaN   Data Engineer   \n",
       "\n",
       "  English Level  Experience Years   \n",
       "0  intermediate              11.0  \\\n",
       "1           pre              11.0   \n",
       "2         upper               7.0   \n",
       "3  intermediate               0.5   \n",
       "4  intermediate               6.0   \n",
       "\n",
       "                                                  CV CV_lang   \n",
       "0  \\nРозробник 1с/BAS, всі українські конфігураці...      uk  \\\n",
       "1  Hillel IT school Java Basic and Java Pro 2022\\...      uk   \n",
       "2  Самостійно приймати рішення, брати відповідаль...      uk   \n",
       "3  Пройшов курси: «1С за 21 день, 1С 8.3» та «1С ...      uk   \n",
       "4  \\nШукаю роботу по напрямку junior С++. Маю дос...      uk   \n",
       "\n",
       "                                     id  \n",
       "0  dcaeffc4-1d1f-5754-a567-f478f0c8aa6f  \n",
       "1  2767ca2d-4bca-5b41-b9e0-e42ad5700b6f  \n",
       "2  ff07df1f-5268-5865-8f30-1cc660786494  \n",
       "3  da4b79b1-fbc5-5dfe-bba0-58339f262d11  \n",
       "4  b118a952-cbe6-58ac-824a-10de5322570c  "
      ]
     },
     "execution_count": 13,
     "metadata": {},
     "output_type": "execute_result"
    }
   ],
   "source": [
    "df_candidates.head()"
   ]
  },
  {
   "cell_type": "code",
   "execution_count": 14,
   "metadata": {},
   "outputs": [
    {
     "data": {
      "application/vnd.jupyter.widget-view+json": {
       "model_id": "f298a7c92e3b4894865fe44d3bb236fc",
       "version_major": 2,
       "version_minor": 0
      },
      "text/plain": [
       "Uploading the dataset shards:   0%|          | 0/1 [00:00<?, ?it/s]"
      ]
     },
     "metadata": {},
     "output_type": "display_data"
    },
    {
     "data": {
      "application/vnd.jupyter.widget-view+json": {
       "model_id": "ad1e876a27df4225a26efc6ac1286810",
       "version_major": 2,
       "version_minor": 0
      },
      "text/plain": [
       "Creating parquet from Arrow format:   0%|          | 0/211 [00:00<?, ?ba/s]"
      ]
     },
     "metadata": {},
     "output_type": "display_data"
    },
    {
     "data": {
      "application/vnd.jupyter.widget-view+json": {
       "model_id": "b50ce228395844358c8a3d28a0ea5370",
       "version_major": 2,
       "version_minor": 0
      },
      "text/plain": [
       "README.md:   0%|          | 0.00/1.01k [00:00<?, ?B/s]"
      ]
     },
     "metadata": {},
     "output_type": "display_data"
    },
    {
     "data": {
      "text/plain": [
       "CommitInfo(commit_url='https://huggingface.co/datasets/Stereotypes-in-LLMs/recruitment-dataset-candidate-profiles-english/commit/352423472cd6477494b87bf7fc3ac87364356350', commit_message='Upload dataset', commit_description='', oid='352423472cd6477494b87bf7fc3ac87364356350', pr_url=None, pr_revision=None, pr_num=None)"
      ]
     },
     "execution_count": 14,
     "metadata": {},
     "output_type": "execute_result"
    }
   ],
   "source": [
    "# english dataset\n",
    "Dataset.from_pandas(df_candidates[df_candidates[\"CV_lang\"] ==\"en\"]).push_to_hub(\"Stereotypes-in-LLMs/recruitment-dataset-candidate-profiles-english\", private=True)"
   ]
  },
  {
   "cell_type": "code",
   "execution_count": 15,
   "metadata": {},
   "outputs": [
    {
     "data": {
      "application/vnd.jupyter.widget-view+json": {
       "model_id": "d1a344694f504478a1953396efff1c2c",
       "version_major": 2,
       "version_minor": 0
      },
      "text/plain": [
       "Uploading the dataset shards:   0%|          | 0/1 [00:00<?, ?it/s]"
      ]
     },
     "metadata": {},
     "output_type": "display_data"
    },
    {
     "data": {
      "application/vnd.jupyter.widget-view+json": {
       "model_id": "4f1fc8877a3947c79951973634b08fe3",
       "version_major": 2,
       "version_minor": 0
      },
      "text/plain": [
       "Creating parquet from Arrow format:   0%|          | 0/25 [00:00<?, ?ba/s]"
      ]
     },
     "metadata": {},
     "output_type": "display_data"
    },
    {
     "data": {
      "application/vnd.jupyter.widget-view+json": {
       "model_id": "e07f659638dd429eac1ec53ec97fc605",
       "version_major": 2,
       "version_minor": 0
      },
      "text/plain": [
       "README.md:   0%|          | 0.00/1.01k [00:00<?, ?B/s]"
      ]
     },
     "metadata": {},
     "output_type": "display_data"
    },
    {
     "data": {
      "text/plain": [
       "CommitInfo(commit_url='https://huggingface.co/datasets/Stereotypes-in-LLMs/recruitment-dataset-candidate-profiles-ukrainian/commit/42eb9ade42af21fa0527b609b7ec24de71766425', commit_message='Upload dataset', commit_description='', oid='42eb9ade42af21fa0527b609b7ec24de71766425', pr_url=None, pr_revision=None, pr_num=None)"
      ]
     },
     "execution_count": 15,
     "metadata": {},
     "output_type": "execute_result"
    }
   ],
   "source": [
    "# ukrainian dataset\n",
    "Dataset.from_pandas(df_candidates[df_candidates[\"CV_lang\"] ==\"uk\"]).push_to_hub(\"Stereotypes-in-LLMs/recruitment-dataset-candidate-profiles-ukrainian\", private=True)"
   ]
  },
  {
   "cell_type": "markdown",
   "metadata": {},
   "source": [
    "## Upload English and Ukrainain job descriptions to Hugging Face"
   ]
  },
  {
   "cell_type": "code",
   "execution_count": 16,
   "metadata": {},
   "outputs": [
    {
     "data": {
      "text/html": [
       "<div>\n",
       "<style scoped>\n",
       "    .dataframe tbody tr th:only-of-type {\n",
       "        vertical-align: middle;\n",
       "    }\n",
       "\n",
       "    .dataframe tbody tr th {\n",
       "        vertical-align: top;\n",
       "    }\n",
       "\n",
       "    .dataframe thead th {\n",
       "        text-align: right;\n",
       "    }\n",
       "</style>\n",
       "<table border=\"1\" class=\"dataframe\">\n",
       "  <thead>\n",
       "    <tr style=\"text-align: right;\">\n",
       "      <th></th>\n",
       "      <th>Position</th>\n",
       "      <th>Long Description</th>\n",
       "      <th>Company Name</th>\n",
       "      <th>Exp Years</th>\n",
       "      <th>Primary Keyword</th>\n",
       "      <th>English Level</th>\n",
       "      <th>Published</th>\n",
       "      <th>Long Description_lang</th>\n",
       "      <th>id</th>\n",
       "    </tr>\n",
       "  </thead>\n",
       "  <tbody>\n",
       "    <tr>\n",
       "      <th>0</th>\n",
       "      <td>1c developer</td>\n",
       "      <td>Компанія  співпрацює з такими лідерами фарма і...</td>\n",
       "      <td>AboutHR</td>\n",
       "      <td>2y</td>\n",
       "      <td>Other</td>\n",
       "      <td>NaN</td>\n",
       "      <td>2021-06-01T00:00:00+03:00</td>\n",
       "      <td>uk</td>\n",
       "      <td>0e8d1ddb-b002-53c2-a761-20406026f153</td>\n",
       "    </tr>\n",
       "    <tr>\n",
       "      <th>1</th>\n",
       "      <td>1C developer</td>\n",
       "      <td>IT компанія “Нова Пошта Діджитал”, що входить ...</td>\n",
       "      <td>Nova Poshta Digital</td>\n",
       "      <td>3y</td>\n",
       "      <td>Other</td>\n",
       "      <td>NaN</td>\n",
       "      <td>2023-03-01T00:00:00+02:00</td>\n",
       "      <td>uk</td>\n",
       "      <td>3f65951b-c5c3-5472-a39b-6bbf516addc1</td>\n",
       "    </tr>\n",
       "    <tr>\n",
       "      <th>2</th>\n",
       "      <td>1C developer</td>\n",
       "      <td>Вимоги до успішного кандидата:\\r\\n— Програміст...</td>\n",
       "      <td>Zakaz.ua</td>\n",
       "      <td>3y</td>\n",
       "      <td>Other</td>\n",
       "      <td>NaN</td>\n",
       "      <td>2022-02-01T00:00:00+02:00</td>\n",
       "      <td>uk</td>\n",
       "      <td>741d9555-9324-54ca-af5b-de4887b0f978</td>\n",
       "    </tr>\n",
       "    <tr>\n",
       "      <th>3</th>\n",
       "      <td>1C developer</td>\n",
       "      <td>ОККО запрошує стати частиною потужної команди ...</td>\n",
       "      <td>OKKO Group</td>\n",
       "      <td>3y</td>\n",
       "      <td>Other</td>\n",
       "      <td>NaN</td>\n",
       "      <td>2021-07-01T00:00:00+03:00</td>\n",
       "      <td>uk</td>\n",
       "      <td>5002f118-575e-5325-83c5-8075e5554bdf</td>\n",
       "    </tr>\n",
       "    <tr>\n",
       "      <th>4</th>\n",
       "      <td>1C Developer</td>\n",
       "      <td>**Everad** — міжнародна CPA-мережа з прямим ре...</td>\n",
       "      <td>Everad</td>\n",
       "      <td>3y</td>\n",
       "      <td>Other</td>\n",
       "      <td>NaN</td>\n",
       "      <td>2023-04-01T00:00:00+03:00</td>\n",
       "      <td>uk</td>\n",
       "      <td>70a9a45b-302f-59a5-a4e1-ee0da427a5f1</td>\n",
       "    </tr>\n",
       "  </tbody>\n",
       "</table>\n",
       "</div>"
      ],
      "text/plain": [
       "       Position                                   Long Description   \n",
       "0  1c developer  Компанія  співпрацює з такими лідерами фарма і...  \\\n",
       "1  1C developer  IT компанія “Нова Пошта Діджитал”, що входить ...   \n",
       "2  1C developer  Вимоги до успішного кандидата:\\r\\n— Програміст...   \n",
       "3  1C developer  ОККО запрошує стати частиною потужної команди ...   \n",
       "4  1C Developer  **Everad** — міжнародна CPA-мережа з прямим ре...   \n",
       "\n",
       "          Company Name Exp Years Primary Keyword English Level   \n",
       "0              AboutHR        2y           Other           NaN  \\\n",
       "1  Nova Poshta Digital        3y           Other           NaN   \n",
       "2             Zakaz.ua        3y           Other           NaN   \n",
       "3           OKKO Group        3y           Other           NaN   \n",
       "4               Everad        3y           Other           NaN   \n",
       "\n",
       "                   Published Long Description_lang   \n",
       "0  2021-06-01T00:00:00+03:00                    uk  \\\n",
       "1  2023-03-01T00:00:00+02:00                    uk   \n",
       "2  2022-02-01T00:00:00+02:00                    uk   \n",
       "3  2021-07-01T00:00:00+03:00                    uk   \n",
       "4  2023-04-01T00:00:00+03:00                    uk   \n",
       "\n",
       "                                     id  \n",
       "0  0e8d1ddb-b002-53c2-a761-20406026f153  \n",
       "1  3f65951b-c5c3-5472-a39b-6bbf516addc1  \n",
       "2  741d9555-9324-54ca-af5b-de4887b0f978  \n",
       "3  5002f118-575e-5325-83c5-8075e5554bdf  \n",
       "4  70a9a45b-302f-59a5-a4e1-ee0da427a5f1  "
      ]
     },
     "execution_count": 16,
     "metadata": {},
     "output_type": "execute_result"
    }
   ],
   "source": [
    "df_jobs.head()"
   ]
  },
  {
   "cell_type": "code",
   "execution_count": 17,
   "metadata": {},
   "outputs": [
    {
     "data": {
      "application/vnd.jupyter.widget-view+json": {
       "model_id": "9bb08d2386eb44b297c32c635df42351",
       "version_major": 2,
       "version_minor": 0
      },
      "text/plain": [
       "Uploading the dataset shards:   0%|          | 0/1 [00:00<?, ?it/s]"
      ]
     },
     "metadata": {},
     "output_type": "display_data"
    },
    {
     "data": {
      "application/vnd.jupyter.widget-view+json": {
       "model_id": "738695bd2b124207b2df783873c3038d",
       "version_major": 2,
       "version_minor": 0
      },
      "text/plain": [
       "Creating parquet from Arrow format:   0%|          | 0/142 [00:00<?, ?ba/s]"
      ]
     },
     "metadata": {},
     "output_type": "display_data"
    },
    {
     "data": {
      "application/vnd.jupyter.widget-view+json": {
       "model_id": "3e2828c19de746f297d4b7fb780bd5f4",
       "version_major": 2,
       "version_minor": 0
      },
      "text/plain": [
       "README.md:   0%|          | 0.00/968 [00:00<?, ?B/s]"
      ]
     },
     "metadata": {},
     "output_type": "display_data"
    },
    {
     "data": {
      "text/plain": [
       "CommitInfo(commit_url='https://huggingface.co/datasets/Stereotypes-in-LLMs/recruitment-dataset-job-descriptions-english/commit/6a4bb371aad891752b11c509bab7639451d83faa', commit_message='Upload dataset', commit_description='', oid='6a4bb371aad891752b11c509bab7639451d83faa', pr_url=None, pr_revision=None, pr_num=None)"
      ]
     },
     "execution_count": 17,
     "metadata": {},
     "output_type": "execute_result"
    }
   ],
   "source": [
    "# english dataset\n",
    "Dataset.from_pandas(df_jobs[df_jobs[\"Long Description_lang\"] ==\"en\"]).push_to_hub(\"Stereotypes-in-LLMs/recruitment-dataset-job-descriptions-english\", private=True)"
   ]
  },
  {
   "cell_type": "code",
   "execution_count": 18,
   "metadata": {},
   "outputs": [
    {
     "data": {
      "application/vnd.jupyter.widget-view+json": {
       "model_id": "104c5ca6c8e940ef9d33c4d363cc794a",
       "version_major": 2,
       "version_minor": 0
      },
      "text/plain": [
       "Uploading the dataset shards:   0%|          | 0/1 [00:00<?, ?it/s]"
      ]
     },
     "metadata": {},
     "output_type": "display_data"
    },
    {
     "data": {
      "application/vnd.jupyter.widget-view+json": {
       "model_id": "83249ed76ae64742822118067aa8d653",
       "version_major": 2,
       "version_minor": 0
      },
      "text/plain": [
       "Creating parquet from Arrow format:   0%|          | 0/28 [00:00<?, ?ba/s]"
      ]
     },
     "metadata": {},
     "output_type": "display_data"
    },
    {
     "data": {
      "application/vnd.jupyter.widget-view+json": {
       "model_id": "5046ce104c734436990282903f374338",
       "version_major": 2,
       "version_minor": 0
      },
      "text/plain": [
       "README.md:   0%|          | 0.00/966 [00:00<?, ?B/s]"
      ]
     },
     "metadata": {},
     "output_type": "display_data"
    },
    {
     "data": {
      "text/plain": [
       "CommitInfo(commit_url='https://huggingface.co/datasets/Stereotypes-in-LLMs/recruitment-dataset-job-descriptions-ukrainian/commit/60db53e686fe3f09dfafd68fa82581b6febeb9ab', commit_message='Upload dataset', commit_description='', oid='60db53e686fe3f09dfafd68fa82581b6febeb9ab', pr_url=None, pr_revision=None, pr_num=None)"
      ]
     },
     "execution_count": 18,
     "metadata": {},
     "output_type": "execute_result"
    }
   ],
   "source": [
    "# ukrainian dataset\n",
    "Dataset.from_pandas(df_jobs[df_jobs[\"Long Description_lang\"] ==\"uk\"]).push_to_hub(\"Stereotypes-in-LLMs/recruitment-dataset-job-descriptions-ukrainian\", private=True)"
   ]
  },
  {
   "cell_type": "code",
   "execution_count": null,
   "metadata": {},
   "outputs": [],
   "source": []
  }
 ],
 "metadata": {
  "kernelspec": {
   "display_name": "my_conda_env_with_py311",
   "language": "python",
   "name": "python3"
  },
  "language_info": {
   "codemirror_mode": {
    "name": "ipython",
    "version": 3
   },
   "file_extension": ".py",
   "mimetype": "text/x-python",
   "name": "python",
   "nbconvert_exporter": "python",
   "pygments_lexer": "ipython3",
   "version": "3.9.18"
  }
 },
 "nbformat": 4,
 "nbformat_minor": 2
}
