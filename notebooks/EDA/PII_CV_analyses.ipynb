{
 "cells": [
  {
   "cell_type": "code",
   "execution_count": null,
   "metadata": {},
   "outputs": [],
   "source": [
    "import re\n",
    "import json\n",
    "import pymorphy3\n",
    "import tokenize_uk\n",
    "import numpy as np\n",
    "import pandas as pd\n",
    "import matplotlib.pyplot as plt\n",
    "import seaborn as sns\n",
    "from tqdm import tqdm"
   ]
  },
  {
   "cell_type": "code",
   "execution_count": null,
   "metadata": {},
   "outputs": [],
   "source": [
    "df = pd.read_csv('../../data/prepared_candidates/candidates_prepared.csv')\n",
    "df.head()"
   ]
  },
  {
   "cell_type": "code",
   "execution_count": null,
   "metadata": {},
   "outputs": [],
   "source": [
    "# check phone number\n",
    "def detect_phone(text):\n",
    "    if re.search(r'380\\d{9}', text.replace(' ','')) or re.search(r'0\\d{9}', text.replace(' ','')):\n",
    "        return 1\n",
    "    return 0\n",
    "\n",
    "def get_phone(text):\n",
    "    if re.search(r'380\\d{9}', text.replace(' ','')):\n",
    "        return re.search(r'380\\d{9}', text.replace(' ','')).group()\n",
    "    elif re.search(r'0\\d{9}', text.replace(' ','')):\n",
    "        return re.search(r'0\\d{9}', text.replace(' ','')).group()\n",
    "    return None\n",
    "\n",
    "count = 0\n",
    "for cv_text in tqdm(df['CV'].values):\n",
    "    count+=detect_phone(cv_text)\n",
    "print(\"Count of CVs with phone number in CVs:\", count)\n",
    "print(\"Percentage of CVs with phone number in CVs:\", 100*count/len(df))\n",
    "\n",
    "# get phone\n",
    "df['phone'] = df['CV'].apply(get_phone)\n",
    "# show 10 random phone\n",
    "df['phone'].unique()[np.random.randint(0, len(df['phone'].unique()), 10)]"
   ]
  },
  {
   "cell_type": "code",
   "execution_count": null,
   "metadata": {},
   "outputs": [],
   "source": [
    "# check email\n",
    "def detect_email(text):\n",
    "    if re.search(r'.+[@ _]gmail\\.com', text.replace(' ','')) or re.search(r'.+[@ _]ukr\\.net', text.replace(' ','')) or re.search(r'.+[@ _]mail\\.ru', text.replace(' ','')):\n",
    "        return 1\n",
    "    return 0\n",
    "\n",
    "def get_email(text):\n",
    "    if re.search(r'.+[@ _]gmail\\.com', text.replace(' ','')):\n",
    "        return re.search(r'.+[@ _]gmail\\.com', text.replace(' ','')).group()\n",
    "    elif re.search(r'.+[@ _]ukr\\.net', text.replace(' ','')):\n",
    "        return re.search(r'.+[@ _]ukr\\.net', text.replace(' ','')).group()\n",
    "    elif re.search(r'.+[@ _]mail\\.ru', text.replace(' ','')):\n",
    "        return re.search(r'.+[@ _]mail\\.ru', text.replace(' ','')).group()\n",
    "    return None\n",
    "\n",
    "count = 0\n",
    "for cv_text in tqdm(df['CV'].values):\n",
    "    count+=detect_email(cv_text)\n",
    "print(\"Count of CVs with email in CVs:\", count)\n",
    "print(\"Percentage of CVs with email in CVs:\", 100*count/len(df))\n",
    "\n",
    "# get email\n",
    "df['email'] = df['CV'].apply(get_email)\n",
    "# show 10 random emails\n",
    "df['email'].unique()[np.random.randint(0, len(df['email'].unique()), 10)]"
   ]
  },
  {
   "cell_type": "code",
   "execution_count": null,
   "metadata": {},
   "outputs": [],
   "source": [
    "# check вул or street\n",
    "def detect_street(text):\n",
    "    if re.search(r'вул\\.', text) or re.search(r'home address', text):\n",
    "        return 1\n",
    "    return 0\n",
    "\n",
    "def get_street(text):\n",
    "    if re.search(r'вул\\.', text):\n",
    "        return re.search(r'вул\\..+', text).group()\n",
    "    elif re.search(r'home address', text):\n",
    "        return re.search(r'home address.+', text).group()\n",
    "    return None\n",
    "\n",
    "count = 0\n",
    "for cv_text in tqdm(df['CV'].values):\n",
    "    count+=detect_street(cv_text)\n",
    "print(\"Count of CVs with вул. in CVs:\", count)\n",
    "print(\"Percentage of CVs with вул. in CVs:\", 100*count/len(df))\n",
    "\n",
    "# get street\n",
    "df['street'] = df['CV'].apply(get_street)\n",
    "# show 10 random streets\n",
    "df['street'].unique()[:10]"
   ]
  },
  {
   "cell_type": "code",
   "execution_count": null,
   "metadata": {},
   "outputs": [],
   "source": [
    "# check ІПН, РНОКПП, УНЗР, SNN\n",
    "def detect_ipn(text):\n",
    "    if re.search(r'ІПН', text) or re.search(r'РНОКПП', text) or re.search(r'УНЗР', text) or re.search(r'SNN:', text):\n",
    "        print(text)\n",
    "        return 1\n",
    "    return 0\n",
    "\n",
    "def get_ipn(text):\n",
    "    if re.search(r'ІПН', text):\n",
    "        return re.search(r'ІПН.+', text).group()\n",
    "    elif re.search(r'РНОКПП', text):\n",
    "        return re.search(r'РНОКПП.+', text).group()\n",
    "    elif re.search(r'УНЗР', text):\n",
    "        return re.search(r'УНЗР.+', text).group()\n",
    "    elif re.search(r'SNN:', text):\n",
    "        return re.search(r'SNN:.+', text).group()\n",
    "    return None\n",
    "\n",
    "count = 0\n",
    "for cv_text in tqdm(df['CV'].values):\n",
    "    count+=detect_ipn(cv_text)\n",
    "print(\"Count of CVs with ІПН in CVs:\", count)\n",
    "print(\"Percentage of CVs with ІПН in CVs:\", 100*count/len(df))\n",
    "\n",
    "# get ІПН\n",
    "df['ipn'] = df['CV'].apply(get_ipn)\n",
    "# show 10 random ІПН\n",
    "df['ipn'].unique()[:10] # noy find"
   ]
  },
  {
   "cell_type": "code",
   "execution_count": null,
   "metadata": {},
   "outputs": [],
   "source": [
    "# check social media links\n",
    "def detect_social(text):\n",
    "    if re.search(r\"w{3}\\.linkedin\", text) or re.search(r\"w{3}\\.facebook\", text) or re.search(r\"w{3}\\.instagram\", text) or re.search(r\"w{3}\\.twitter\", text) or re.search(r\"w{3}\\.vk\", text) or re.search(r\"w{3}\\.telegram\", text) or re.search(r\"w{3}\\.viber\", text) or re.search(r\"w{3}\\.whatsapp\", text):\n",
    "        return 1\n",
    "    return 0\n",
    "\n",
    "def get_social(text):\n",
    "    social = []\n",
    "    if re.search(r\"w{3}\\.linkedin\", text):\n",
    "        social.append(re.search(r\"w{3}\\.linkedin.+\", text).group())\n",
    "    if re.search(r\"w{3}\\.facebook\", text):\n",
    "        social.append(re.search(r\"w{3}\\.facebook.+\", text).group())\n",
    "    if re.search(r\"w{3}\\.instagram\", text):\n",
    "        social.append(re.search(r\"w{3}\\.instagram.+\", text).group())\n",
    "    if re.search(r\"w{3}\\.twitter\", text):\n",
    "        social.append(re.search(r\"w{3}\\.twitter.+\", text).group())\n",
    "    if re.search(r\"w{3}\\.vk\", text):\n",
    "        social.append(re.search(r\"w{3}\\.vk.+\", text).group())\n",
    "    if re.search(r\"w{3}\\.telegram\", text):\n",
    "        social.append(re.search(r\"w{3}\\.telegram.+\", text).group())\n",
    "    if re.search(r\"w{3}\\.viber\", text):\n",
    "        social.append(re.search(r\"w{3}\\.viber.+\", text).group())\n",
    "    if re.search(r\"w{3}\\.whatsapp\", text):\n",
    "        social.append(re.search(r\"w{3}\\.whatsapp.+\", text).group())\n",
    "    return str(social)\n",
    "\n",
    "count = 0\n",
    "for cv_text in tqdm(df['CV'].values):\n",
    "    count+=detect_social(cv_text)\n",
    "print(\"Count of CVs with social media links in CVs:\", count)\n",
    "print(\"Percentage of CVs with social media links in CVs:\", 100*count/len(df))\n",
    "\n",
    "# get social media links\n",
    "df['social'] = df['CV'].apply(get_social)\n",
    "# show 10 random social media links\n",
    "df['social'].unique()[np.random.randint(0, len(df['social'].unique()), 10)]"
   ]
  },
  {
   "cell_type": "code",
   "execution_count": null,
   "metadata": {},
   "outputs": [],
   "source": [
    "# find socila media nicknames\n",
    "def find_social_nickname(text):\n",
    "    text = text.lower()\n",
    "    if re.search(r\"linkedin:\", text) or re.search(r\"facebook:\", text) or re.search(r\"instagram:\", text) or re.search(r\"twitter:\", text) or \\\n",
    "        re.search(r\"vk:\", text) or re.search(r\"vkontakte:\", text) or re.search(r\"telegram:\", text) or re.search(r\"viber:\", text) or re.search(r\"whatsapp:\", text):\n",
    "        return 1\n",
    "    return 0\n",
    "\n",
    "def get_social_nickname(text):\n",
    "    social = []\n",
    "    if re.search(r\"linkedin:.+\", text):\n",
    "        social.append(re.search(r\"linkedin:.+\", text).group())\n",
    "    if re.search(r\"facebook:.+\", text):\n",
    "        social.append(re.search(r\"facebook:.+\", text).group())\n",
    "    if re.search(r\"instagram:.+\", text):\n",
    "        social.append(re.search(r\"instagram:.+\", text).group())\n",
    "    if re.search(r\"twitter:.+\", text):\n",
    "        social.append(re.search(r\"twitter:.+\", text).group())\n",
    "    if re.search(r\"vk:.+\", text):\n",
    "        social.append(re.search(r\"vk:.+\", text).group())\n",
    "    if re.search(r\"vkontakte:.+\", text):\n",
    "        social.append(re.search(r\"vkontakte:.+\", text).group())\n",
    "    if re.search(r\"telegram:.+\", text):\n",
    "        social.append(re.search(r\"telegram:.+\", text).group())\n",
    "    if re.search(r\"viber:.+\", text):\n",
    "        social.append(re.search(r\"viber:.+\", text).group())\n",
    "    if re.search(r\"whatsapp:.+\", text):\n",
    "        social.append(re.search(r\"whatsapp:.+\", text).group())\n",
    "    return str(social)\n",
    "\n",
    "count = 0\n",
    "for cv_text in tqdm(df['CV'].values):\n",
    "    count+=find_social_nickname(cv_text)\n",
    "print(\"Count of CVs with social media nicknames in CVs:\", count)\n",
    "print(\"Percentage of CVs with social media nicknames in CVs:\", 100*count/len(df))\n",
    "\n",
    "# get social media nicknames\n",
    "df['social_nickname'] = df['CV'].apply(get_social_nickname)\n",
    "# show 10 random social media nicknames\n",
    "df['social_nickname'].unique()[np.random.randint(0, len(df['social_nickname'].unique()), 10)]"
   ]
  },
  {
   "cell_type": "code",
   "execution_count": null,
   "metadata": {},
   "outputs": [],
   "source": [
    "df.social = df.social.astype(str)\n",
    "df = df[(df.social_nickname != '[]') | (df.social != '[]') | (df.ipn.notna()) | (df.street.notna()) | (df.email.notna()) |  (df.phone.notna())]\n",
    "print(df.shape)\n",
    "df.head()"
   ]
  },
  {
   "cell_type": "code",
   "execution_count": null,
   "metadata": {},
   "outputs": [],
   "source": [
    "df.to_csv('../data/PII_CV.csv', index=False)"
   ]
  },
  {
   "cell_type": "markdown",
   "metadata": {},
   "source": [
    "## Delete PII from datasets"
   ]
  },
  {
   "cell_type": "code",
   "execution_count": null,
   "metadata": {},
   "outputs": [],
   "source": [
    "data = pd.read_csv('../../data/djinni/candidates.csv')"
   ]
  },
  {
   "cell_type": "code",
   "execution_count": null,
   "metadata": {},
   "outputs": [],
   "source": [
    "data"
   ]
  },
  {
   "cell_type": "code",
   "execution_count": null,
   "metadata": {},
   "outputs": [],
   "source": [
    "df = df[data.columns]"
   ]
  },
  {
   "cell_type": "code",
   "execution_count": null,
   "metadata": {},
   "outputs": [],
   "source": [
    "#delete all rows from data which we have in df. for deleting use match by all columns\n",
    "data = data[~data.apply(tuple,1).isin(df.apply(tuple,1))]\n"
   ]
  },
  {
   "cell_type": "code",
   "execution_count": null,
   "metadata": {},
   "outputs": [],
   "source": [
    "data"
   ]
  },
  {
   "cell_type": "code",
   "execution_count": null,
   "metadata": {},
   "outputs": [],
   "source": [
    "100*(295094-294825)/295094"
   ]
  },
  {
   "cell_type": "code",
   "execution_count": null,
   "metadata": {},
   "outputs": [],
   "source": [
    "data.to_csv('../../data/djinni/candidates.csv', index=False)"
   ]
  },
  {
   "cell_type": "code",
   "execution_count": null,
   "metadata": {},
   "outputs": [],
   "source": [
    "# delete from preprocessed datasets\n",
    "data = pd.read_csv('../../data/prepared_candidates/candidates_prepared.csv')\n",
    "print(data.shape)\n",
    "df = pd.read_csv('../data/PII_CV.csv')\n",
    "# drop by id\n",
    "data = data[~data.id.isin(df.id)]\n",
    "print(data.shape)\n",
    "data.to_csv('../../data/prepared_candidates/candidates_prepared.csv', index=False)"
   ]
  },
  {
   "cell_type": "code",
   "execution_count": null,
   "metadata": {},
   "outputs": [],
   "source": [
    "# delete from preprocessed datasets\n",
    "data = pd.read_csv('../../data/prepared_candidates/intermediate_candidates_prepared.csv')\n",
    "print(data.shape)\n",
    "df = pd.read_csv('../data/PII_CV.csv')\n",
    "# drop by id\n",
    "data = data[~data.id.isin(df.id)]\n",
    "print(data.shape)\n",
    "data.to_csv('../../data/prepared_candidates/intermediate_candidates_prepared.csv', index=False)"
   ]
  },
  {
   "cell_type": "code",
   "execution_count": null,
   "metadata": {},
   "outputs": [],
   "source": []
  }
 ],
 "metadata": {
  "kernelspec": {
   "display_name": "my_conda_env_with_py311",
   "language": "python",
   "name": "python3"
  },
  "language_info": {
   "codemirror_mode": {
    "name": "ipython",
    "version": 3
   },
   "file_extension": ".py",
   "mimetype": "text/x-python",
   "name": "python",
   "nbconvert_exporter": "python",
   "pygments_lexer": "ipython3",
   "version": "3.11.3"
  }
 },
 "nbformat": 4,
 "nbformat_minor": 2
}
